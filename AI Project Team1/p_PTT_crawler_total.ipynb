{
  "nbformat": 4,
  "nbformat_minor": 0,
  "metadata": {
    "colab": {
      "name": "PTT_total.ipynb",
      "provenance": [],
      "collapsed_sections": []
    },
    "kernelspec": {
      "name": "python3",
      "display_name": "Python 3"
    }
  },
  "cells": [
    {
      "cell_type": "code",
      "metadata": {
        "id": "xI4QVQAvilsa",
        "colab_type": "code",
        "colab": {}
      },
      "source": [
        "from bs4 import BeautifulSoup\n",
        "import requests\n",
        "import pandas as pd\n",
        "#共有 k 頁\n",
        "df = pd.DataFrame(columns=[\"ID\", \"看板\", \"標題\", \"時間\", \"分數\", \"內容\"])\n",
        "count = 0\n",
        "for k in range(1, 12):\n",
        "    try:\n",
        "        url = \"https://www.ptt.cc/bbs/MobileComm/search?page=\" + str(k) +\"&q=索尼\"\n",
        "        print(\"正在處理\", url)\n",
        "        res = requests.get(url)\n",
        "        htm = BeautifulSoup(res.text)\n",
        "        t = htm.find_all(\"div\", class_=\"r-ent\")\n",
        "        for i in t:\n",
        "            t2 = i.find(\"div\", class_=\"title\")\n",
        "            t3 = t2.find(\"a\")\n",
        "            url2 = \"https://www.ptt.cc\" + t3[\"href\"]\n",
        "            count += 1\n",
        "            response = requests.get(url2)\n",
        "            html = BeautifulSoup(response.text)\n",
        "            content = html.find(\"div\", id=\"main-content\")\n",
        "            imfo = content.find_all(\"span\", class_=\"article-meta-value\")\n",
        "            m = content.find_all(\"div\", class_=\"article-metaline\")\n",
        "            for i in m:\n",
        "                i.extract()\n",
        "            m = content.find_all(\"div\", class_=\"article-metaline-right\")\n",
        "            for i in m:\n",
        "                i.extract()\n",
        "            print(content.text)\n",
        "            push = content.find_all(\"div\", class_=\"push\")\n",
        "            score = 0\n",
        "            for p in push:\n",
        "                tag = p.find(\"span\", class_=\"push-tag\").text\n",
        "                if \"推\" in tag:\n",
        "                    score += 1\n",
        "                elif \"噓\" in tag:\n",
        "                    score -= 1\n",
        "                else:\n",
        "                    score += 0\n",
        "            s = pd.Series([imfo[0].text, imfo[1].text, imfo[2].text, imfo[3].text, score, content.text],\n",
        "                          index=[\"ID\", \"看板\", \"標題\", \"時間\", \"分數\", \"內容\"])\n",
        "            df = df.append(s, ignore_index=True)\n",
        "    except:\n",
        "        continue\n",
        "print(\"總共:\", count, \"個標題\")\n",
        "df.to_csv(\"ptt_sony_c.csv\", encoding=\"utf-8\", index=False)"
      ],
      "execution_count": 0,
      "outputs": []
    },
    {
      "cell_type": "code",
      "metadata": {
        "id": "49_q8Emlm3x3",
        "colab_type": "code",
        "colab": {}
      },
      "source": [
        "df = pd.read_csv(\"./drive/My Drive/ptt_samsung.csv\")\n",
        "sorted(df[\"分數\"], reverse=True)"
      ],
      "execution_count": 0,
      "outputs": []
    }
  ]
}