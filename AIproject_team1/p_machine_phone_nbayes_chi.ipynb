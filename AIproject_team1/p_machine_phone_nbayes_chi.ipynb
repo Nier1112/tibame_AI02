{
  "nbformat": 4,
  "nbformat_minor": 0,
  "metadata": {
    "colab": {
      "name": "Machine_phone_nbayes_chi.ipynb",
      "provenance": [],
      "collapsed_sections": []
    },
    "kernelspec": {
      "name": "python3",
      "display_name": "Python 3"
    }
  },
  "cells": [
    {
      "cell_type": "code",
      "metadata": {
        "id": "3HZ7fhC020H1",
        "colab_type": "code",
        "outputId": "2c8d6075-d242-4453-c483-964f772e9a38",
        "colab": {
          "base_uri": "https://localhost:8080/",
          "height": 453
        }
      },
      "source": [
        "# 資料處理成一個 DataFrame, neg 在前面, target=0, pos 在後面, target=1\n",
        "import pandas as pd\n",
        "pos = pd.read_table(\"./drive/My Drive/機不可失/pos_neg/pos_chi.txt\")\n",
        "neg = pd.read_table(\"./drive/My Drive/機不可失/pos_neg/neg.txt\")\n",
        "pos.columns=[\"content\"]\n",
        "neg.columns=[\"content\"]\n",
        "neg = neg[0:25000]\n",
        "print(\"總長度:\", len(pos))\n",
        "print(\"總長度:\", len(neg))\n",
        "train_df = pd.concat([neg, pos], axis=0)\n",
        "df = pd.DataFrame({\n",
        "  \"content\":([neg]+[pos]),\n",
        "  })\n",
        "train_df[\"target\"] = ([0]*len(neg) + [1]*len(pos))\n",
        "y_train = train_df[\"target\"]\n",
        "x_train = train_df[\"content\"]\n",
        "train_df"
      ],
      "execution_count": 6,
      "outputs": [
        {
          "output_type": "stream",
          "text": [
            "總長度: 23578\n",
            "總長度: 25000\n"
          ],
          "name": "stdout"
        },
        {
          "output_type": "execute_result",
          "data": {
            "text/html": [
              "<div>\n",
              "<style scoped>\n",
              "    .dataframe tbody tr th:only-of-type {\n",
              "        vertical-align: middle;\n",
              "    }\n",
              "\n",
              "    .dataframe tbody tr th {\n",
              "        vertical-align: top;\n",
              "    }\n",
              "\n",
              "    .dataframe thead th {\n",
              "        text-align: right;\n",
              "    }\n",
              "</style>\n",
              "<table border=\"1\" class=\"dataframe\">\n",
              "  <thead>\n",
              "    <tr style=\"text-align: right;\">\n",
              "      <th></th>\n",
              "      <th>content</th>\n",
              "      <th>target</th>\n",
              "    </tr>\n",
              "  </thead>\n",
              "  <tbody>\n",
              "    <tr>\n",
              "      <th>0</th>\n",
              "      <td>星粉：手不要那麼賤行不行</td>\n",
              "      <td>0</td>\n",
              "    </tr>\n",
              "    <tr>\n",
              "      <th>1</th>\n",
              "      <td>你才沒看內文吧 下面就說有其他記者沒撕膜照樣壞</td>\n",
              "      <td>0</td>\n",
              "    </tr>\n",
              "    <tr>\n",
              "      <th>2</th>\n",
              "      <td>塑料要賣破萬 不看好</td>\n",
              "      <td>0</td>\n",
              "    </tr>\n",
              "    <tr>\n",
              "      <th>3</th>\n",
              "      <td>倒是現在怎麼沒看到hebe代言oddo了</td>\n",
              "      <td>0</td>\n",
              "    </tr>\n",
              "    <tr>\n",
              "      <th>4</th>\n",
              "      <td>樓上能這麼沒水準真不簡單</td>\n",
              "      <td>0</td>\n",
              "    </tr>\n",
              "    <tr>\n",
              "      <th>...</th>\n",
              "      <td>...</td>\n",
              "      <td>...</td>\n",
              "    </tr>\n",
              "    <tr>\n",
              "      <th>23573</th>\n",
              "      <td>i8真的只是煙霧彈@@ 1</td>\n",
              "      <td>1</td>\n",
              "    </tr>\n",
              "    <tr>\n",
              "      <th>23574</th>\n",
              "      <td>*賣的很好 1</td>\n",
              "      <td>1</td>\n",
              "    </tr>\n",
              "    <tr>\n",
              "      <th>23575</th>\n",
              "      <td>教徒一定是買新的 誰要買8 1</td>\n",
              "      <td>1</td>\n",
              "    </tr>\n",
              "    <tr>\n",
              "      <th>23576</th>\n",
              "      <td>爽  信癢+1</td>\n",
              "      <td>1</td>\n",
              "    </tr>\n",
              "    <tr>\n",
              "      <th>23577</th>\n",
              "      <td>亦敵亦</td>\n",
              "      <td>1</td>\n",
              "    </tr>\n",
              "  </tbody>\n",
              "</table>\n",
              "<p>48578 rows × 2 columns</p>\n",
              "</div>"
            ],
            "text/plain": [
              "                         content  target\n",
              "0                  星粉：手不要那麼賤行不行        0\n",
              "1       你才沒看內文吧 下面就說有其他記者沒撕膜照樣壞        0\n",
              "2                    塑料要賣破萬 不看好        0\n",
              "3          倒是現在怎麼沒看到hebe代言oddo了        0\n",
              "4                  樓上能這麼沒水準真不簡單        0\n",
              "...                          ...     ...\n",
              "23573              i8真的只是煙霧彈@@ 1       1\n",
              "23574                    *賣的很好 1       1\n",
              "23575            教徒一定是買新的 誰要買8 1       1\n",
              "23576                    爽  信癢+1       1\n",
              "23577                        亦敵亦       1\n",
              "\n",
              "[48578 rows x 2 columns]"
            ]
          },
          "metadata": {
            "tags": []
          },
          "execution_count": 6
        }
      ]
    },
    {
      "cell_type": "code",
      "metadata": {
        "id": "1GanFo_PCn0-",
        "colab_type": "code",
        "colab": {
          "base_uri": "https://localhost:8080/",
          "height": 419
        },
        "outputId": "a683cd0d-1aea-4156-b5ad-1ccee9960a0c"
      },
      "source": [
        "# 測試資料集\n",
        "neg2 = neg[25000:]\n",
        "test_df = pd.concat([neg2, pos], axis=0)\n",
        "df = pd.DataFrame({\n",
        "  \"content\":([neg2]+[pos]),\n",
        "  })\n",
        "test_df[\"target\"] = ([0]*len(neg2) + [1]*len(pos))\n",
        "y_test = test_df[\"target\"]\n",
        "x_test = test_df[\"content\"]\n",
        "test_df"
      ],
      "execution_count": 7,
      "outputs": [
        {
          "output_type": "execute_result",
          "data": {
            "text/html": [
              "<div>\n",
              "<style scoped>\n",
              "    .dataframe tbody tr th:only-of-type {\n",
              "        vertical-align: middle;\n",
              "    }\n",
              "\n",
              "    .dataframe tbody tr th {\n",
              "        vertical-align: top;\n",
              "    }\n",
              "\n",
              "    .dataframe thead th {\n",
              "        text-align: right;\n",
              "    }\n",
              "</style>\n",
              "<table border=\"1\" class=\"dataframe\">\n",
              "  <thead>\n",
              "    <tr style=\"text-align: right;\">\n",
              "      <th></th>\n",
              "      <th>content</th>\n",
              "      <th>target</th>\n",
              "    </tr>\n",
              "  </thead>\n",
              "  <tbody>\n",
              "    <tr>\n",
              "      <th>0</th>\n",
              "      <td>好 感謝一樓大大，我來裝看看！感恩</td>\n",
              "      <td>1</td>\n",
              "    </tr>\n",
              "    <tr>\n",
              "      <th>1</th>\n",
              "      <td>thx u12 life</td>\n",
              "      <td>1</td>\n",
              "    </tr>\n",
              "    <tr>\n",
              "      <th>2</th>\n",
              "      <td>S6 Lite 入門就 64G，還送不錯的筆跟套</td>\n",
              "      <td>1</td>\n",
              "    </tr>\n",
              "    <tr>\n",
              "      <th>3</th>\n",
              "      <td>S5E 螢幕好很多 常使用就買比較不傷眼的</td>\n",
              "      <td>1</td>\n",
              "    </tr>\n",
              "    <tr>\n",
              "      <th>4</th>\n",
              "      <td>上漲覺得很爽</td>\n",
              "      <td>1</td>\n",
              "    </tr>\n",
              "    <tr>\n",
              "      <th>...</th>\n",
              "      <td>...</td>\n",
              "      <td>...</td>\n",
              "    </tr>\n",
              "    <tr>\n",
              "      <th>23573</th>\n",
              "      <td>i8真的只是煙霧彈@@ 1</td>\n",
              "      <td>1</td>\n",
              "    </tr>\n",
              "    <tr>\n",
              "      <th>23574</th>\n",
              "      <td>*賣的很好 1</td>\n",
              "      <td>1</td>\n",
              "    </tr>\n",
              "    <tr>\n",
              "      <th>23575</th>\n",
              "      <td>教徒一定是買新的 誰要買8 1</td>\n",
              "      <td>1</td>\n",
              "    </tr>\n",
              "    <tr>\n",
              "      <th>23576</th>\n",
              "      <td>爽  信癢+1</td>\n",
              "      <td>1</td>\n",
              "    </tr>\n",
              "    <tr>\n",
              "      <th>23577</th>\n",
              "      <td>亦敵亦</td>\n",
              "      <td>1</td>\n",
              "    </tr>\n",
              "  </tbody>\n",
              "</table>\n",
              "<p>23578 rows × 2 columns</p>\n",
              "</div>"
            ],
            "text/plain": [
              "                          content  target\n",
              "0              好 感謝一樓大大，我來裝看看！感恩        1\n",
              "1                   thx u12 life        1\n",
              "2       S6 Lite 入門就 64G，還送不錯的筆跟套        1\n",
              "3          S5E 螢幕好很多 常使用就買比較不傷眼的        1\n",
              "4                         上漲覺得很爽        1\n",
              "...                           ...     ...\n",
              "23573               i8真的只是煙霧彈@@ 1       1\n",
              "23574                     *賣的很好 1       1\n",
              "23575             教徒一定是買新的 誰要買8 1       1\n",
              "23576                     爽  信癢+1       1\n",
              "23577                         亦敵亦       1\n",
              "\n",
              "[23578 rows x 2 columns]"
            ]
          },
          "metadata": {
            "tags": []
          },
          "execution_count": 7
        }
      ]
    },
    {
      "cell_type": "code",
      "metadata": {
        "id": "bvIkQAN63zOL",
        "colab_type": "code",
        "colab": {}
      },
      "source": [
        "# 把每一個詞轉換成數量, 每一個詞出現幾遍\n",
        "from sklearn.feature_extraction.text import CountVectorizer\n",
        "vec = CountVectorizer()\n",
        "train_vec = vec.fit_transform(x_train)\n",
        "test_vec = vec.transform(x_test)"
      ],
      "execution_count": 0,
      "outputs": []
    },
    {
      "cell_type": "code",
      "metadata": {
        "id": "FXHhjGQ_4Cx5",
        "colab_type": "code",
        "outputId": "26c3f0a1-9ea8-4ad2-c723-48757f2190ae",
        "colab": {
          "base_uri": "https://localhost:8080/",
          "height": 34
        }
      },
      "source": [
        "from sklearn.naive_bayes import MultinomialNB\n",
        "clf = MultinomialNB()\n",
        "clf.fit(train_vec, y_train)"
      ],
      "execution_count": 9,
      "outputs": [
        {
          "output_type": "execute_result",
          "data": {
            "text/plain": [
              "MultinomialNB(alpha=1.0, class_prior=None, fit_prior=True)"
            ]
          },
          "metadata": {
            "tags": []
          },
          "execution_count": 9
        }
      ]
    },
    {
      "cell_type": "code",
      "metadata": {
        "id": "3oRSc-6q5JiS",
        "colab_type": "code",
        "outputId": "19c786e3-a145-4b9e-f9e9-8e2643869eb9",
        "colab": {
          "base_uri": "https://localhost:8080/",
          "height": 34
        }
      },
      "source": [
        "from sklearn.metrics import accuracy_score\n",
        "pre = clf.predict(test_vec)\n",
        "print(\"正確率:\", accuracy_score(y_test, pre))"
      ],
      "execution_count": 10,
      "outputs": [
        {
          "output_type": "stream",
          "text": [
            "正確率: 0.9684027483247095\n"
          ],
          "name": "stdout"
        }
      ]
    },
    {
      "cell_type": "code",
      "metadata": {
        "id": "thRo78O77g0J",
        "colab_type": "code",
        "outputId": "543e5a08-0c33-4b08-b738-a6c4bfc70eeb",
        "colab": {
          "base_uri": "https://localhost:8080/",
          "height": 119
        }
      },
      "source": [
        "import jieba\n",
        "p =input(\"輸入推文:\")\n",
        "p= \" \".join(jieba.cut(p))\n",
        "#p = p.replace(\"\\r\", \"\").replace(\"\\n\", \"\")\n",
        "p = vec.transform([p])\n",
        "ans = clf.predict(p)\n",
        "if ans == 1:\n",
        "  print(\"答案應該是:\", 1, \"正面推文\")\n",
        "else:\n",
        "  print(\"答案應該是:\", 0, \"負面推文\")\n"
      ],
      "execution_count": 11,
      "outputs": [
        {
          "output_type": "stream",
          "text": [
            "輸入推文:某樓推文有必要這樣嗎 \n"
          ],
          "name": "stdout"
        },
        {
          "output_type": "stream",
          "text": [
            "Building prefix dict from the default dictionary ...\n",
            "Loading model from cache /tmp/jieba.cache\n",
            "Loading model cost 0.798 seconds.\n",
            "Prefix dict has been built successfully.\n"
          ],
          "name": "stderr"
        },
        {
          "output_type": "stream",
          "text": [
            "答案應該是: 0 負面推文\n"
          ],
          "name": "stdout"
        }
      ]
    },
    {
      "cell_type": "code",
      "metadata": {
        "id": "00FIVCIxC-YG",
        "colab_type": "code",
        "colab": {
          "base_uri": "https://localhost:8080/",
          "height": 51
        },
        "outputId": "67ee13bb-b81e-4f8d-dc8c-3affa0fd5f58"
      },
      "source": [
        "import jieba\n",
        "p =input(\"輸入推文:\")\n",
        "p= \" \".join(jieba.cut(p))\n",
        "#p = p.replace(\"\\r\", \"\").replace(\"\\n\", \"\")\n",
        "p = vec.transform([p])\n",
        "ans = clf.predict(p)\n",
        "if ans == 1:\n",
        "  print(\"答案應該是:\", 1, \"正面推文\")\n",
        "else:\n",
        "  print(\"答案應該是:\", 0, \"負面推文\")"
      ],
      "execution_count": 12,
      "outputs": [
        {
          "output_type": "stream",
          "text": [
            "輸入推文:過了四年還念念不忘 信仰就是狂\n",
            "答案應該是: 1 正面推文\n"
          ],
          "name": "stdout"
        }
      ]
    }
  ]
}