{
 "cells": [
  {
   "cell_type": "code",
   "execution_count": 0,
   "metadata": {
    "colab": {},
    "colab_type": "code",
    "id": "f0QLLUCx-Mv7"
   },
   "outputs": [],
   "source": [
    "from google.colab import drive\n",
    "drive.mount('/content/drive')"
   ]
  },
  {
   "cell_type": "code",
   "execution_count": 0,
   "metadata": {
    "colab": {},
    "colab_type": "code",
    "id": "9FT51Dow4bYX"
   },
   "outputs": [],
   "source": [
    "import pickle\n",
    "import keras\n",
    "from keras.models import load_model\n",
    "import cv2\n",
    "from glob import glob\n",
    "\n",
    "import matplotlib.pyplot as plt\n",
    "import numpy as np\n",
    "import pickle\n",
    "import os"
   ]
  },
  {
   "cell_type": "code",
   "execution_count": 0,
   "metadata": {
    "colab": {},
    "colab_type": "code",
    "id": "YvcBndvJ4bYa"
   },
   "outputs": [],
   "source": [
    "folder_path = '/content/drive/My Drive/week10/face_detection'"
   ]
  },
  {
   "cell_type": "code",
   "execution_count": 0,
   "metadata": {
    "colab": {},
    "colab_type": "code",
    "id": "66o_9Mve4bYb"
   },
   "outputs": [],
   "source": [
    "paths = glob(os.path.join(folder_path, 'new/*'))"
   ]
  },
  {
   "cell_type": "code",
   "execution_count": 0,
   "metadata": {
    "colab": {},
    "colab_type": "code",
    "id": "Pax2K3WX4bYh"
   },
   "outputs": [],
   "source": [
    "len(paths)"
   ]
  },
  {
   "cell_type": "code",
   "execution_count": 0,
   "metadata": {
    "colab": {},
    "colab_type": "code",
    "id": "WENsNcb64bYd"
   },
   "outputs": [],
   "source": [
    "img = cv2.imread(paths[1])[:,:,::-1]\n",
    "plt.imshow(img)"
   ]
  },
  {
   "cell_type": "code",
   "execution_count": 0,
   "metadata": {
    "colab": {},
    "colab_type": "code",
    "id": "Rtq-9V2M4bYj"
   },
   "outputs": [],
   "source": [
    "model = load_model(os.path.join(folder_path, 'facenet.h5'))"
   ]
  },
  {
   "cell_type": "code",
   "execution_count": 0,
   "metadata": {
    "colab": {},
    "colab_type": "code",
    "id": "w-itnvrZC8Y5"
   },
   "outputs": [],
   "source": [
    "model.summary()"
   ]
  },
  {
   "cell_type": "code",
   "execution_count": 0,
   "metadata": {
    "colab": {},
    "colab_type": "code",
    "id": "zZx_7ejW4bYl"
   },
   "outputs": [],
   "source": [
    "X = np.zeros((len(paths), 160, 160, 3))\n",
    "for i, path in enumerate(paths):\n",
    "    img = cv2.imread(path)[:,:,::-1]\n",
    "    img = cv2.resize(img, (160, 160))\n",
    "    X[i] = img"
   ]
  },
  {
   "cell_type": "code",
   "execution_count": 0,
   "metadata": {
    "colab": {},
    "colab_type": "code",
    "id": "DLX-dk_m4bYn"
   },
   "outputs": [],
   "source": [
    "def preprocess(imgs):\n",
    "    for i in range(imgs.shape[0]):\n",
    "        # standardization\n",
    "        img = imgs[i]\n",
    "        mean, std = img.mean(), img.std()\n",
    "        img = (img - mean) / std\n",
    "        imgs[i] = img\n",
    "    return imgs\n",
    "X = preprocess(X)"
   ]
  },
  {
   "cell_type": "code",
   "execution_count": 0,
   "metadata": {
    "colab": {},
    "colab_type": "code",
    "id": "h7FGZiCP4bYp"
   },
   "outputs": [],
   "source": [
    "embeddings = model.predict(X)"
   ]
  },
  {
   "cell_type": "code",
   "execution_count": 0,
   "metadata": {
    "colab": {},
    "colab_type": "code",
    "id": "J6gCbPsq4bYq"
   },
   "outputs": [],
   "source": [
    "embeddings.shape"
   ]
  },
  {
   "cell_type": "code",
   "execution_count": 0,
   "metadata": {
    "colab": {},
    "colab_type": "code",
    "id": "_uzLOf56EDGg"
   },
   "outputs": [],
   "source": [
    "embeddings[0]"
   ]
  },
  {
   "cell_type": "code",
   "execution_count": 0,
   "metadata": {
    "colab": {},
    "colab_type": "code",
    "id": "vA1DGPGV4bYs"
   },
   "outputs": [],
   "source": [
    "names = [path.split('/')[-1].split('.')[0] for path in paths]"
   ]
  },
  {
   "cell_type": "code",
   "execution_count": 0,
   "metadata": {
    "colab": {},
    "colab_type": "code",
    "id": "_au0KFuP4bYu"
   },
   "outputs": [],
   "source": [
    "names[:10]"
   ]
  },
  {
   "cell_type": "code",
   "execution_count": 0,
   "metadata": {
    "colab": {},
    "colab_type": "code",
    "id": "MzIdK1eg4bYw"
   },
   "outputs": [],
   "source": [
    "db = {}\n",
    "db['names'] = names\n",
    "db['embeddings'] = embeddings"
   ]
  },
  {
   "cell_type": "code",
   "execution_count": 0,
   "metadata": {
    "colab": {},
    "colab_type": "code",
    "id": "qKHbEfa24bYy"
   },
   "outputs": [],
   "source": [
    "db"
   ]
  },
  {
   "cell_type": "code",
   "execution_count": 0,
   "metadata": {
    "colab": {},
    "colab_type": "code",
    "id": "Um3cl-ev4bY1"
   },
   "outputs": [],
   "source": [
    "with open('/content/drive/My Drive/db.pickle', 'wb') as file:\n",
    "    pickle.dump(db, file)"
   ]
  },
  {
   "cell_type": "code",
   "execution_count": 0,
   "metadata": {
    "colab": {},
    "colab_type": "code",
    "id": "YmlYfFae4bY3"
   },
   "outputs": [],
   "source": []
  }
 ],
 "metadata": {
  "colab": {
   "collapsed_sections": [],
   "name": "create_db.ipynb",
   "provenance": []
  },
  "kernelspec": {
   "display_name": "Python 3",
   "language": "python",
   "name": "python3"
  },
  "language_info": {
   "codemirror_mode": {
    "name": "ipython",
    "version": 3
   },
   "file_extension": ".py",
   "mimetype": "text/x-python",
   "name": "python",
   "nbconvert_exporter": "python",
   "pygments_lexer": "ipython3",
   "version": "3.7.4"
  }
 },
 "nbformat": 4,
 "nbformat_minor": 1
}
