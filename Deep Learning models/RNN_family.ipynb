{
  "nbformat": 4,
  "nbformat_minor": 0,
  "metadata": {
    "colab": {
      "name": "RNN family.ipynb",
      "provenance": [],
      "collapsed_sections": [],
      "toc_visible": true
    },
    "kernelspec": {
      "name": "python3",
      "display_name": "Python 3"
    }
  },
  "cells": [
    {
      "cell_type": "code",
      "metadata": {
        "id": "7MQTJpgXIZTb",
        "colab_type": "code",
        "colab": {}
      },
      "source": [
        "import tensorflow as tf\n",
        "from tensorflow.keras import layers, models"
      ],
      "execution_count": 0,
      "outputs": []
    },
    {
      "cell_type": "code",
      "metadata": {
        "id": "MyuU_zLAQTZ2",
        "colab_type": "code",
        "colab": {}
      },
      "source": [
        "# Sample: 1\n",
        "# Sequence Length: 5 , \n",
        "# feature dimension: 8 , 表示每一個時間點會把長度是 8 向量的長度丟進去給模型\n",
        "# 如果要做的是影像, 8 \n",
        "# one-hot encoding 可以把字體轉化成向量, word to vector 也是轉化成向量\n",
        "inputs = tf.random.normal([1, 5, 8])"
      ],
      "execution_count": 0,
      "outputs": []
    },
    {
      "cell_type": "markdown",
      "metadata": {
        "id": "atmpBvPyLWCJ",
        "colab_type": "text"
      },
      "source": [
        "# tf.keras.layers.LSTM"
      ]
    },
    {
      "cell_type": "code",
      "metadata": {
        "id": "ad4M9eEwIddc",
        "colab_type": "code",
        "outputId": "7c8a1161-f64c-4b25-c7ed-d58481951ccb",
        "colab": {
          "base_uri": "https://localhost:8080/",
          "height": 34
        }
      },
      "source": [
        "output = layers.LSTM(units=3)(inputs)\n",
        "print(output.shape)\n",
        "# 1 指資料筆數有1比, 每個時間點output有3個向量"
      ],
      "execution_count": 3,
      "outputs": [
        {
          "output_type": "stream",
          "text": [
            "(1, 3)\n"
          ],
          "name": "stdout"
        }
      ]
    },
    {
      "cell_type": "code",
      "metadata": {
        "id": "_t8D3p7dJ0vg",
        "colab_type": "code",
        "outputId": "cd0612a8-7dc1-4c95-aa47-f33488ecd7ef",
        "colab": {
          "base_uri": "https://localhost:8080/",
          "height": 153
        }
      },
      "source": [
        "whole_seq_output, final_hiden_state, final_cell_state = layers.LSTM(3, \n",
        "                                                                    return_sequences=True, \n",
        "                                                                    return_state=True)(inputs)\n",
        "\n",
        "print('whole_seq_output: ', whole_seq_output.shape, whole_seq_output)\n",
        "print('final_hiden_state (h): ', final_hiden_state.shape, final_hiden_state)\n",
        "print('final_cell_state (c): ', final_cell_state.shape, final_cell_state)"
      ],
      "execution_count": 4,
      "outputs": [
        {
          "output_type": "stream",
          "text": [
            "whole_seq_output:  (1, 5, 3) tf.Tensor(\n",
            "[[[ 0.0677882  -0.21087094 -0.0989236 ]\n",
            "  [ 0.06288411 -0.1294672  -0.06691958]\n",
            "  [ 0.05835059 -0.04514087 -0.12253632]\n",
            "  [ 0.12794894 -0.40130848 -0.38835487]\n",
            "  [ 0.07307947 -0.1388176  -0.26558414]]], shape=(1, 5, 3), dtype=float32)\n",
            "final_hiden_state (h):  (1, 3) tf.Tensor([[ 0.07307947 -0.1388176  -0.26558414]], shape=(1, 3), dtype=float32)\n",
            "final_cell_state (c):  (1, 3) tf.Tensor([[ 0.24009112 -0.32717627 -0.3491059 ]], shape=(1, 3), dtype=float32)\n"
          ],
          "name": "stdout"
        }
      ]
    },
    {
      "cell_type": "markdown",
      "metadata": {
        "id": "Cf8aLad2LX9w",
        "colab_type": "text"
      },
      "source": [
        "# tf.keras.layers.GRU"
      ]
    },
    {
      "cell_type": "code",
      "metadata": {
        "id": "9xxagyy9LYt_",
        "colab_type": "code",
        "outputId": "2bd76c7d-5908-46f7-d93c-7abff30f983b",
        "colab": {
          "base_uri": "https://localhost:8080/",
          "height": 34
        }
      },
      "source": [
        "# LSTM 跟 GRU 的用法類似\n",
        "inputs = tf.random.normal([1, 5, 8])\n",
        "output = layers.GRU(units=3)(inputs)\n",
        "print(output.shape)"
      ],
      "execution_count": 0,
      "outputs": [
        {
          "output_type": "stream",
          "text": [
            "(1, 3)\n"
          ],
          "name": "stdout"
        }
      ]
    },
    {
      "cell_type": "code",
      "metadata": {
        "id": "x2THpViELlO5",
        "colab_type": "code",
        "outputId": "a6b0f718-2360-473a-8d24-64f4ec80d7aa",
        "colab": {
          "base_uri": "https://localhost:8080/",
          "height": 136
        }
      },
      "source": [
        "# erturn_sequences, return_state 都打開 \n",
        "whole_sequence_output, final_state = layers.GRU(3, \n",
        "                                                return_sequences=True, \n",
        "                                                return_state=True)(inputs)\n",
        "\n",
        "print('whole_seq_output: ', whole_sequence_output.shape, whole_sequence_output)\n",
        "print('final_state (h): ', final_state.shape, final_state)"
      ],
      "execution_count": 5,
      "outputs": [
        {
          "output_type": "stream",
          "text": [
            "whole_seq_output:  (1, 5, 3) tf.Tensor(\n",
            "[[[-0.18241197 -0.55939376  0.449733  ]\n",
            "  [ 0.3694474  -0.406887   -0.02468668]\n",
            "  [ 0.57061267 -0.3379681   0.28261572]\n",
            "  [ 0.45434126 -0.05053666  0.73105246]\n",
            "  [ 0.600995    0.0487359   0.27398178]]], shape=(1, 5, 3), dtype=float32)\n",
            "final_state (h):  (1, 3) tf.Tensor([[0.600995   0.0487359  0.27398178]], shape=(1, 3), dtype=float32)\n"
          ],
          "name": "stdout"
        }
      ]
    },
    {
      "cell_type": "markdown",
      "metadata": {
        "id": "BLcEAbfIM7IT",
        "colab_type": "text"
      },
      "source": [
        "# tf.keras.layers.Bidirectional"
      ]
    },
    {
      "cell_type": "code",
      "metadata": {
        "id": "8aDkLkxeM-XQ",
        "colab_type": "code",
        "outputId": "f171ac89-46cc-4761-917e-219982ce3613",
        "colab": {
          "base_uri": "https://localhost:8080/",
          "height": 34
        }
      },
      "source": [
        "# 可以接合不同的網路層, 可以包裝不同的RNN的網路層, 裏面包 LSTM 的寫法\n",
        "# 順向有一個向量 10, 逆向有一個向量 10, 兩者合在一起就是 20個向量\n",
        "output = layers.Bidirectional(layers.LSTM(10), merge_mode='concat')(inputs)\n",
        "print(output.shape)"
      ],
      "execution_count": 7,
      "outputs": [
        {
          "output_type": "stream",
          "text": [
            "(1, 20)\n"
          ],
          "name": "stdout"
        }
      ]
    },
    {
      "cell_type": "code",
      "metadata": {
        "id": "fMQkgBJ3NYeO",
        "colab_type": "code",
        "outputId": "21700471-e6d9-4ea7-c4ef-fa88465511e6",
        "colab": {
          "base_uri": "https://localhost:8080/",
          "height": 34
        }
      },
      "source": [
        "# merge_mode: Sum\n",
        "output = layers.Bidirectional(layers.LSTM(10), merge_mode='sum')(inputs)\n",
        "print(output.shape)"
      ],
      "execution_count": 8,
      "outputs": [
        {
          "output_type": "stream",
          "text": [
            "(1, 10)\n"
          ],
          "name": "stdout"
        }
      ]
    },
    {
      "cell_type": "code",
      "metadata": {
        "id": "pbBbk7e7NqOK",
        "colab_type": "code",
        "outputId": "df8f95a2-ea57-4961-8993-57c4a5610539",
        "colab": {
          "base_uri": "https://localhost:8080/",
          "height": 34
        }
      },
      "source": [
        "# return_sequences: True\n",
        "output = layers.Bidirectional(layers.LSTM(10, return_sequences=True))(inputs)\n",
        "print(output.shape)"
      ],
      "execution_count": 9,
      "outputs": [
        {
          "output_type": "stream",
          "text": [
            "(1, 5, 20)\n"
          ],
          "name": "stdout"
        }
      ]
    },
    {
      "cell_type": "code",
      "metadata": {
        "id": "u3Kh1ZkPNwtA",
        "colab_type": "code",
        "outputId": "35e523c2-d267-4b8e-9573-51b60ce788ad",
        "colab": {
          "base_uri": "https://localhost:8080/",
          "height": 187
        }
      },
      "source": [
        "# return_sequences: True, \n",
        "output, forward_h, forward_c, backward_h, backward_c = layers.Bidirectional(layers.LSTM(2, return_sequences=True, return_state=True))(inputs)\n",
        "print('output : ', output.shape, output)\n",
        "print('forward_h : ', forward_h.shape, forward_h)\n",
        "print('forward_c : ', forward_c.shape, forward_c)\n",
        "print('backward_h : ', backward_h.shape, backward_h)\n",
        "print('backward_c : ', backward_c.shape, backward_c)\n"
      ],
      "execution_count": 10,
      "outputs": [
        {
          "output_type": "stream",
          "text": [
            "output :  (1, 5, 4) tf.Tensor(\n",
            "[[[-0.00398363 -0.05402295  0.2331119  -0.18791509]\n",
            "  [-0.29531315 -0.28845802 -0.12860148  0.00712839]\n",
            "  [-0.03452276 -0.28813103  0.03765422 -0.01030171]\n",
            "  [-0.02302204 -0.10902112  0.38550964 -0.00540784]\n",
            "  [-0.12485908 -0.01887606 -0.12214801  0.18091883]]], shape=(1, 5, 4), dtype=float32)\n",
            "forward_h :  (1, 2) tf.Tensor([[-0.12485908 -0.01887606]], shape=(1, 2), dtype=float32)\n",
            "forward_c :  (1, 2) tf.Tensor([[-0.4735272  -0.09810753]], shape=(1, 2), dtype=float32)\n",
            "backward_h :  (1, 2) tf.Tensor([[ 0.2331119  -0.18791509]], shape=(1, 2), dtype=float32)\n",
            "backward_c :  (1, 2) tf.Tensor([[ 0.41434836 -0.45825845]], shape=(1, 2), dtype=float32)\n"
          ],
          "name": "stdout"
        }
      ]
    },
    {
      "cell_type": "markdown",
      "metadata": {
        "id": "kLmti2QISYyV",
        "colab_type": "text"
      },
      "source": [
        "## Many-to-one"
      ]
    },
    {
      "cell_type": "code",
      "metadata": {
        "id": "mLX9Rho9SbbC",
        "colab_type": "code",
        "outputId": "cbfe665e-d250-43d3-af87-cbcd624a0457",
        "colab": {
          "base_uri": "https://localhost:8080/",
          "height": 255
        }
      },
      "source": [
        "input = layers.Input(shape=(5, 8))\n",
        "x = layers.LSTM(10)(input)\n",
        "ouput = layers.Dense(10)(x)\n",
        "model = models.Model(input, ouput)\n",
        "model.summary()"
      ],
      "execution_count": 11,
      "outputs": [
        {
          "output_type": "stream",
          "text": [
            "Model: \"model\"\n",
            "_________________________________________________________________\n",
            "Layer (type)                 Output Shape              Param #   \n",
            "=================================================================\n",
            "input_1 (InputLayer)         [(None, 5, 8)]            0         \n",
            "_________________________________________________________________\n",
            "lstm_7 (LSTM)                (None, 10)                760       \n",
            "_________________________________________________________________\n",
            "dense (Dense)                (None, 10)                110       \n",
            "=================================================================\n",
            "Total params: 870\n",
            "Trainable params: 870\n",
            "Non-trainable params: 0\n",
            "_________________________________________________________________\n"
          ],
          "name": "stdout"
        }
      ]
    },
    {
      "cell_type": "code",
      "metadata": {
        "id": "XT1W5B-2Td0m",
        "colab_type": "code",
        "outputId": "4e1c7117-5fa5-4482-f195-0498aab1c2d9",
        "colab": {
          "base_uri": "https://localhost:8080/",
          "height": 289
        }
      },
      "source": [
        "# multi-layer, 堆疊兩層 LSTM \n",
        "input = layers.Input(shape=(5, 8))\n",
        "x = layers.LSTM(10, return_sequences=True)(input)\n",
        "x = layers.LSTM(10)(x)\n",
        "ouput = layers.Dense(10)(x)\n",
        "model = models.Model(input, ouput)\n",
        "model.summary()"
      ],
      "execution_count": 12,
      "outputs": [
        {
          "output_type": "stream",
          "text": [
            "Model: \"model_1\"\n",
            "_________________________________________________________________\n",
            "Layer (type)                 Output Shape              Param #   \n",
            "=================================================================\n",
            "input_2 (InputLayer)         [(None, 5, 8)]            0         \n",
            "_________________________________________________________________\n",
            "lstm_8 (LSTM)                (None, 5, 10)             760       \n",
            "_________________________________________________________________\n",
            "lstm_9 (LSTM)                (None, 10)                840       \n",
            "_________________________________________________________________\n",
            "dense_1 (Dense)              (None, 10)                110       \n",
            "=================================================================\n",
            "Total params: 1,710\n",
            "Trainable params: 1,710\n",
            "Non-trainable params: 0\n",
            "_________________________________________________________________\n"
          ],
          "name": "stdout"
        }
      ]
    },
    {
      "cell_type": "code",
      "metadata": {
        "id": "XNoebK2JTsMN",
        "colab_type": "code",
        "colab": {}
      },
      "source": [
        ""
      ],
      "execution_count": 0,
      "outputs": []
    },
    {
      "cell_type": "markdown",
      "metadata": {
        "id": "xgYNk_0dUVyE",
        "colab_type": "text"
      },
      "source": [
        "# Many-to-many (same length)"
      ]
    },
    {
      "cell_type": "code",
      "metadata": {
        "id": "3ThPhdZVUkRM",
        "colab_type": "code",
        "outputId": "3fdf731b-0e3c-41ab-d961-b6aa458f01dc",
        "colab": {
          "base_uri": "https://localhost:8080/",
          "height": 255
        }
      },
      "source": [
        "input = layers.Input(shape=(50, 8))\n",
        "x = layers.LSTM(10, return_sequences=True)(input)\n",
        "ouput = layers.TimeDistributed(layers.Dense(20))(x)\n",
        "model = models.Model(input, ouput)\n",
        "model.summary()"
      ],
      "execution_count": 13,
      "outputs": [
        {
          "output_type": "stream",
          "text": [
            "Model: \"model_2\"\n",
            "_________________________________________________________________\n",
            "Layer (type)                 Output Shape              Param #   \n",
            "=================================================================\n",
            "input_3 (InputLayer)         [(None, 50, 8)]           0         \n",
            "_________________________________________________________________\n",
            "lstm_10 (LSTM)               (None, 50, 10)            760       \n",
            "_________________________________________________________________\n",
            "time_distributed (TimeDistri (None, 50, 20)            220       \n",
            "=================================================================\n",
            "Total params: 980\n",
            "Trainable params: 980\n",
            "Non-trainable params: 0\n",
            "_________________________________________________________________\n"
          ],
          "name": "stdout"
        }
      ]
    },
    {
      "cell_type": "markdown",
      "metadata": {
        "id": "ma9TzYCQWoh7",
        "colab_type": "text"
      },
      "source": [
        "## Many-to-many (different length) : Seq2seq"
      ]
    },
    {
      "cell_type": "code",
      "metadata": {
        "id": "jGzcPsSkWuaW",
        "colab_type": "code",
        "colab": {}
      },
      "source": [
        ""
      ],
      "execution_count": 0,
      "outputs": []
    }
  ]
}