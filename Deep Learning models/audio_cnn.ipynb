{
  "nbformat": 4,
  "nbformat_minor": 0,
  "metadata": {
    "colab": {
      "name": "Copy of data",
      "provenance": [],
      "collapsed_sections": [],
      "toc_visible": true
    },
    "kernelspec": {
      "name": "python3",
      "display_name": "Python 3"
    }
  },
  "cells": [
    {
      "cell_type": "code",
      "metadata": {
        "id": "BYA_3yTc1XQM",
        "colab_type": "code",
        "colab": {
          "base_uri": "https://localhost:8080/",
          "height": 128
        },
        "outputId": "d506b54f-1bc4-4bd8-f131-6a5a3ea83dfb"
      },
      "source": [
        "from google.colab import drive\n",
        "drive.mount('/content/drive')"
      ],
      "execution_count": null,
      "outputs": [
        {
          "output_type": "stream",
          "text": [
            "Go to this URL in a browser: https://accounts.google.com/o/oauth2/auth?client_id=947318989803-6bn6qk8qdgf4n4g3pfee6491hc0brc4i.apps.googleusercontent.com&redirect_uri=urn%3aietf%3awg%3aoauth%3a2.0%3aoob&response_type=code&scope=email%20https%3a%2f%2fwww.googleapis.com%2fauth%2fdocs.test%20https%3a%2f%2fwww.googleapis.com%2fauth%2fdrive%20https%3a%2f%2fwww.googleapis.com%2fauth%2fdrive.photos.readonly%20https%3a%2f%2fwww.googleapis.com%2fauth%2fpeopleapi.readonly\n",
            "\n",
            "Enter your authorization code:\n",
            "··········\n",
            "Mounted at /content/drive\n"
          ],
          "name": "stdout"
        }
      ]
    },
    {
      "cell_type": "code",
      "metadata": {
        "id": "HeNd7jMG1Zsd",
        "colab_type": "code",
        "colab": {}
      },
      "source": [
        "from glob import glob\n",
        "import numpy as np\n",
        "import os\n",
        "import matplotlib.pyplot as plt\n",
        "\n",
        "from scipy import signal\n",
        "from scipy.io import wavfile"
      ],
      "execution_count": null,
      "outputs": []
    },
    {
      "cell_type": "code",
      "metadata": {
        "id": "zby9Tlpg1ikJ",
        "colab_type": "code",
        "colab": {
          "base_uri": "https://localhost:8080/",
          "height": 35
        },
        "outputId": "473e77b4-305e-40f3-b0cb-95bd99eda8c9"
      },
      "source": [
        "FOLDER_PATH = '/content/drive/My Drive/class/勞動部/week12/audio_classification'\n",
        "paths = sorted(glob(os.path.join(FOLDER_PATH, 'audio10/*')))\n",
        "len(paths)"
      ],
      "execution_count": null,
      "outputs": [
        {
          "output_type": "execute_result",
          "data": {
            "text/plain": [
              "400"
            ]
          },
          "metadata": {
            "tags": []
          },
          "execution_count": 4
        }
      ]
    },
    {
      "cell_type": "markdown",
      "metadata": {
        "id": "bTBr56wm1_NL",
        "colab_type": "text"
      },
      "source": [
        "### Raw signal"
      ]
    },
    {
      "cell_type": "code",
      "metadata": {
        "id": "i7BWihf-1kU-",
        "colab_type": "code",
        "colab": {
          "base_uri": "https://localhost:8080/",
          "height": 72
        },
        "outputId": "24bcbe3f-9222-4891-cf0b-037c7af686ae"
      },
      "source": [
        "# 音訊約有 44100 個點\n",
        "path = paths[0]\n",
        "sample_rate, samples = wavfile.read(path)\n",
        "path, sample_rate, samples.shape"
      ],
      "execution_count": null,
      "outputs": [
        {
          "output_type": "execute_result",
          "data": {
            "text/plain": [
              "('/content/drive/My Drive/class/勞動部/week12/audio_classification/audio10/1-100032-A-0.wav',\n",
              " 44100,\n",
              " (220500,))"
            ]
          },
          "metadata": {
            "tags": []
          },
          "execution_count": 5
        }
      ]
    },
    {
      "cell_type": "code",
      "metadata": {
        "id": "0zNWe0jj3Yb2",
        "colab_type": "code",
        "colab": {
          "base_uri": "https://localhost:8080/",
          "height": 34
        },
        "outputId": "e635c012-59f1-4ee1-a1c6-d70ec5d9b084"
      },
      "source": [
        "len(samples) / sample_rate # 總共有 5 second"
      ],
      "execution_count": null,
      "outputs": [
        {
          "output_type": "execute_result",
          "data": {
            "text/plain": [
              "5.0"
            ]
          },
          "metadata": {
            "tags": []
          },
          "execution_count": 7
        }
      ]
    },
    {
      "cell_type": "code",
      "metadata": {
        "id": "3uHQ0l3b1wHu",
        "colab_type": "code",
        "colab": {
          "base_uri": "https://localhost:8080/",
          "height": 357
        },
        "outputId": "e989410c-88fe-43b6-f861-ddbabb41cd48"
      },
      "source": [
        "plt.figure(figsize=(20,5))\n",
        "plt.plot(samples)"
      ],
      "execution_count": null,
      "outputs": [
        {
          "output_type": "execute_result",
          "data": {
            "text/plain": [
              "[<matplotlib.lines.Line2D at 0x7faa7cfa3780>]"
            ]
          },
          "metadata": {
            "tags": []
          },
          "execution_count": 15
        },
        {
          "output_type": "display_data",
          "data": {
            "image/png": "[encoded data removed]",
            "text/plain": [
              "<Figure size 1440x360 with 1 Axes>"
            ]
          },
          "metadata": {
            "tags": []
          }
        }
      ]
    },
    {
      "cell_type": "code",
      "metadata": {
        "id": "gY5Ruw-0p6sg",
        "colab_type": "code",
        "colab": {
          "base_uri": "https://localhost:8080/",
          "height": 34
        },
        "outputId": "1c04c457-536b-474d-eeac-f322289d5c34"
      },
      "source": [
        "# 振幅上下最大值 \n",
        "np.min(samples), np.max(samples)"
      ],
      "execution_count": null,
      "outputs": [
        {
          "output_type": "execute_result",
          "data": {
            "text/plain": [
              "(-31732, 32730)"
            ]
          },
          "metadata": {
            "tags": []
          },
          "execution_count": 16
        }
      ]
    },
    {
      "cell_type": "markdown",
      "metadata": {
        "id": "hD_sBbSF2DhB",
        "colab_type": "text"
      },
      "source": [
        "### Spectrogram"
      ]
    },
    {
      "cell_type": "code",
      "metadata": {
        "id": "yR7-KChd11Gd",
        "colab_type": "code",
        "colab": {}
      },
      "source": [
        "frequencies, times, spectrogram = signal.spectrogram(samples, sample_rate)"
      ],
      "execution_count": null,
      "outputs": []
    },
    {
      "cell_type": "code",
      "metadata": {
        "id": "cdTFa5HK2L88",
        "colab_type": "code",
        "colab": {
          "base_uri": "https://localhost:8080/",
          "height": 68
        },
        "outputId": "be1a6a04-7e3d-419e-8622-fb12975b5383"
      },
      "source": [
        "len(frequencies), frequencies[:3], frequencies[-3:]"
      ],
      "execution_count": null,
      "outputs": [
        {
          "output_type": "execute_result",
          "data": {
            "text/plain": [
              "(129,\n",
              " array([  0.      , 172.265625, 344.53125 ]),\n",
              " array([21705.46875 , 21877.734375, 22050.      ]))"
            ]
          },
          "metadata": {
            "tags": []
          },
          "execution_count": 10
        }
      ]
    },
    {
      "cell_type": "code",
      "metadata": {
        "id": "GTXYoy0Q2Nag",
        "colab_type": "code",
        "colab": {
          "base_uri": "https://localhost:8080/",
          "height": 68
        },
        "outputId": "2f6d933b-5b2d-43ec-8ea3-061735a468e2"
      },
      "source": [
        "len(times), times[:3], times[-3:]"
      ],
      "execution_count": null,
      "outputs": [
        {
          "output_type": "execute_result",
          "data": {
            "text/plain": [
              "(984,\n",
              " array([0.00290249, 0.00798186, 0.01306122]),\n",
              " array([4.98575964, 4.990839  , 4.99591837]))"
            ]
          },
          "metadata": {
            "tags": []
          },
          "execution_count": 11
        }
      ]
    },
    {
      "cell_type": "code",
      "metadata": {
        "id": "le7H9aPK2QZ6",
        "colab_type": "code",
        "colab": {
          "base_uri": "https://localhost:8080/",
          "height": 235
        },
        "outputId": "ba4341cd-0e8b-4590-efa2-a35408908121"
      },
      "source": [
        "plt.figure(figsize=(20,5))\n",
        "plt.imshow(spectrogram)\n",
        "np.min(spectrogram), np.max(spectrogram)"
      ],
      "execution_count": null,
      "outputs": [
        {
          "output_type": "execute_result",
          "data": {
            "text/plain": [
              "(0.0, 382907.47)"
            ]
          },
          "metadata": {
            "tags": []
          },
          "execution_count": 12
        },
        {
          "output_type": "display_data",
          "data": {
            "image/png": "[encoded data removed]",
            "text/plain": [
              "<Figure size 1440x360 with 1 Axes>"
            ]
          },
          "metadata": {
            "tags": []
          }
        }
      ]
    },
    {
      "cell_type": "code",
      "metadata": {
        "id": "Q4i6a28x2fVz",
        "colab_type": "code",
        "colab": {
          "base_uri": "https://localhost:8080/",
          "height": 235
        },
        "outputId": "3f5ecf8f-ac40-4cdc-aca1-644d926b9707"
      },
      "source": [
        "log_spectrogram = np.log2(spectrogram + 1e-7)\n",
        "plt.figure(figsize=(20,5))\n",
        "plt.imshow(log_spectrogram)\n",
        "np.min(log_spectrogram), np.max(log_spectrogram)"
      ],
      "execution_count": null,
      "outputs": [
        {
          "output_type": "execute_result",
          "data": {
            "text/plain": [
              "(-23.253496, 18.546637)"
            ]
          },
          "metadata": {
            "tags": []
          },
          "execution_count": 13
        },
        {
          "output_type": "display_data",
          "data": {
            "image/png": "[encoded data removed]",
            "text/plain": [
              "<Figure size 1440x360 with 1 Axes>"
            ]
          },
          "metadata": {
            "tags": []
          }
        }
      ]
    },
    {
      "cell_type": "code",
      "metadata": {
        "id": "FxQmL2w22u-9",
        "colab_type": "code",
        "colab": {
          "base_uri": "https://localhost:8080/",
          "height": 34
        },
        "outputId": "a2bcced5-1091-4df0-a576-2db6f44525f8"
      },
      "source": [
        "spectrogram.shape"
      ],
      "execution_count": null,
      "outputs": [
        {
          "output_type": "execute_result",
          "data": {
            "text/plain": [
              "(129, 984)"
            ]
          },
          "metadata": {
            "tags": []
          },
          "execution_count": 14
        }
      ]
    },
    {
      "cell_type": "code",
      "metadata": {
        "id": "YDjP5-p920x-",
        "colab_type": "code",
        "colab": {}
      },
      "source": [
        "# audio 10 : https://drive.google.com/drive/folders/1ov1w9FVgXqHxE6TlSptA4ZNEjEIXAfUN\n",
        "# data 路徑： https://drive.google.com/drive/folders/1KK__0pKmiCnrZB_px38wykSX1nhViQOp"
      ],
      "execution_count": null,
      "outputs": []
    }
  ]
}